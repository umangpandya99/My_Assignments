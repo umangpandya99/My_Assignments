{
 "cells": [
  {
   "cell_type": "code",
   "execution_count": 5,
   "metadata": {},
   "outputs": [],
   "source": [
    "import re\n",
    "firstname=[]\n",
    "lastname=[]\n",
    "username=[]\n",
    "user=[]\n",
    "password=[]\n",
    "abcd=[]\n",
    "dd={}\n",
    "def newuser():\n",
    "    fname=input(\"enter your first name: \")\n",
    "    lname=input(\"enter your last name: \")\n",
    "    passw=input(\"enter password: \")\n",
    "    firstname.append(fname)\n",
    "    lastname.append(lname)\n",
    "    user.append([fname,lname])\n",
    "    abcd.extend(user)\n",
    "    passworcheck(passw)\n",
    "    password.append(passw)\n",
    "    username11=[i+\"@\" +j for i,j in zip(fname,lname)]\n",
    "    #username11=set(username22)\n",
    "    ddcheck(username11,passw)\n",
    "    ddadd(username11,passw)\n",
    "    username.append(username11)\n",
    "    \n",
    "    \n",
    "    print('registered ! you may log in now')\n",
    "    #print('username is:{} and password is:{}'.format(username11,passw))\n",
    "    login()\n",
    "    \n",
    "def login():\n",
    "    uname=input(\"Enter your username: \")\n",
    "    if uname in dd.keys():\n",
    "        passwr=input(\"enter password: \")\n",
    "        if passwr == dd[uname]:\n",
    "            print('login sucessfully !')\n",
    "        else:\n",
    "            print(\"enter correct details !\")\n",
    "            login()\n",
    "    else:\n",
    "        print(\"You are not registered,register now !\")\n",
    "        newuser()\n",
    "          \n",
    "\n",
    "\n",
    "def ddadd(username11,passw):\n",
    "    for i in username11:\n",
    "        dd[i]=passw\n",
    "    \n",
    "def ddcheck(username11,passw):\n",
    "    for k in username11:\n",
    "        if k in dd.keys():\n",
    "            newusername=input(\"This user name is already registered. Please enter new user name: \")\n",
    "            if newusername not in dd.keys():\n",
    "                dd[newusername]=passw\n",
    "            else:\n",
    "                ddcheck(username11,passw)\n",
    "        else:\n",
    "            ddadd(username11,passw)\n",
    "\n",
    "            \n",
    "def passworcheck(passw):\n",
    "    #import re \n",
    "    flag = 0\n",
    "    while True:\n",
    "        if (len(passw)<8): \n",
    "            flag = -1\n",
    "            break\n",
    "        elif not re.search(\"[a-z]\", passw): \n",
    "            flag = -1\n",
    "            break\n",
    "        elif not re.search(\"[A-Z]\", passw): \n",
    "            flag = -1\n",
    "            break\n",
    "        elif not re.search(\"[0-9]\", passw): \n",
    "            flag = -1\n",
    "            break\n",
    "        elif not re.search(\"[_@$]\", passw): \n",
    "            flag = -1\n",
    "            break\n",
    "        elif re.search(\"\\s\", passw): \n",
    "            flag = -1\n",
    "            break\n",
    "        else: \n",
    "            flag = 0\n",
    "            print(\"Valid Password\") \n",
    "            break\n",
    "  \n",
    "    if flag ==-1: \n",
    "        print(\"Not a Valid Password\")\n",
    "        passworcheck(passw)"
   ]
  },
  {
   "cell_type": "code",
   "execution_count": 12,
   "metadata": {},
   "outputs": [
    {
     "name": "stdout",
     "output_type": "stream",
     "text": [
      "Enter your username: a@b\n",
      "enter password: sb\n",
      "enter correct details !\n",
      "Enter your username: a@b\n",
      "enter password: ab\n",
      "login sucessfully !\n"
     ]
    }
   ],
   "source": [
    "login()"
   ]
  },
  {
   "cell_type": "code",
   "execution_count": 10,
   "metadata": {},
   "outputs": [
    {
     "data": {
      "text/plain": [
       "[['a', 'b'], ['a', 'b']]"
      ]
     },
     "execution_count": 10,
     "metadata": {},
     "output_type": "execute_result"
    }
   ],
   "source": [
    "user"
   ]
  },
  {
   "cell_type": "code",
   "execution_count": 11,
   "metadata": {},
   "outputs": [
    {
     "data": {
      "text/plain": [
       "{'a@b': 'ab', 'a@bb': 'ab'}"
      ]
     },
     "execution_count": 11,
     "metadata": {},
     "output_type": "execute_result"
    }
   ],
   "source": [
    "dd"
   ]
  },
  {
   "cell_type": "code",
   "execution_count": null,
   "metadata": {},
   "outputs": [],
   "source": []
  }
 ],
 "metadata": {
  "kernelspec": {
   "display_name": "Python 3",
   "language": "python",
   "name": "python3"
  },
  "language_info": {
   "codemirror_mode": {
    "name": "ipython",
    "version": 3
   },
   "file_extension": ".py",
   "mimetype": "text/x-python",
   "name": "python",
   "nbconvert_exporter": "python",
   "pygments_lexer": "ipython3",
   "version": "3.7.4"
  }
 },
 "nbformat": 4,
 "nbformat_minor": 2
}
