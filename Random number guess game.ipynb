{
 "cells": [
  {
   "cell_type": "markdown",
   "metadata": {},
   "source": [
    "## Random Number Guess Game\n",
    "\n",
    "- User need to guess the number. User will have 5 chances.\n",
    "\n",
    "- With every guess,User will be asked to either increase or decrease the guess.\n",
    "\n",
    "- User will get a hint at the last chance.\n",
    "\n",
    "- Good luck !!"
   ]
  },
  {
   "cell_type": "code",
   "execution_count": null,
   "metadata": {},
   "outputs": [],
   "source": [
    "from random import randint\n",
    "com = randint(1,100)\n",
    "print(com)\n",
    "for i in range(0,5):\n",
    "    player = int(input(\"Enter your Guess: \"))\n",
    "    if i==3:\n",
    "        guess = input(\"This is your last chance. Do you want any help (y/n) \")\n",
    "        if guess == 'y':\n",
    "            for j in range(2,11):\n",
    "                if com%j==0:\n",
    "                    print(f\"Number is divisible by {j} \")\n",
    "    elif(com==player):\n",
    "        print(\"You guessed it correctly !! Yo have won the game ! Congratulations !!\")\n",
    "        break\n",
    "    elif(com<player):\n",
    "        print(\"You are very near to guess. Please lower down your guess\")\n",
    "    elif com>player:\n",
    "        if i<3:\n",
    "            print(\"You are very near to guess. Please increase your guess\")\n",
    "else:\n",
    "    print(\"You have exhausted all your chances !!\")"
   ]
  }
 ],
 "metadata": {
  "kernelspec": {
   "display_name": "Python 3",
   "language": "python",
   "name": "python3"
  },
  "language_info": {
   "codemirror_mode": {
    "name": "ipython",
    "version": 3
   },
   "file_extension": ".py",
   "mimetype": "text/x-python",
   "name": "python",
   "nbconvert_exporter": "python",
   "pygments_lexer": "ipython3",
   "version": "3.7.4"
  }
 },
 "nbformat": 4,
 "nbformat_minor": 2
}
