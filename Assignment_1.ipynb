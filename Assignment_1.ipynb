{
 "cells": [
  {
   "cell_type": "markdown",
   "metadata": {},
   "source": [
    "# Total= amount+interest"
   ]
  },
  {
   "cell_type": "code",
   "execution_count": 1,
   "metadata": {},
   "outputs": [
    {
     "name": "stdout",
     "output_type": "stream",
     "text": [
      "enter the value:100\n",
      "Total is: 110.0\n"
     ]
    }
   ],
   "source": [
    "amount=int(input('enter the value:'))\n",
    "interest= 0.1*amount\n",
    "total=amount+interest\n",
    "print('Total is:',total)"
   ]
  },
  {
   "cell_type": "markdown",
   "metadata": {},
   "source": [
    "# Add name to string"
   ]
  },
  {
   "cell_type": "code",
   "execution_count": 2,
   "metadata": {},
   "outputs": [
    {
     "name": "stdout",
     "output_type": "stream",
     "text": [
      "please enter your name:umang\n",
      "umang is a hero\n"
     ]
    }
   ],
   "source": [
    "print(\"{} is a hero\".format(input('please enter your name:')))"
   ]
  },
  {
   "cell_type": "markdown",
   "metadata": {},
   "source": [
    "# Numbers which are divisible by 7 and multiple of 5, between 1500 and 2700"
   ]
  },
  {
   "cell_type": "code",
   "execution_count": 3,
   "metadata": {},
   "outputs": [
    {
     "name": "stdout",
     "output_type": "stream",
     "text": [
      "please enter value: 1575\n",
      "1575 is divisible by 7 and multiple of 5\n"
     ]
    }
   ],
   "source": [
    "value= int(input('please enter value: '))\n",
    "if 1500<= value<=2700:\n",
    "    if value%7==0 and value%5==0:\n",
    "        print(value, 'is divisible by 7 and multiple of 5')\n",
    "    else:\n",
    "        print(value, 'is not divisible by 7 and multiple of 5')\n",
    "else:\n",
    "    print('please enter value in range')"
   ]
  },
  {
   "cell_type": "markdown",
   "metadata": {},
   "source": [
    "# Count the number of even and odd numbers from a series "
   ]
  },
  {
   "cell_type": "code",
   "execution_count": 4,
   "metadata": {},
   "outputs": [
    {
     "name": "stdout",
     "output_type": "stream",
     "text": [
      "please enter range:3\n",
      "please enter value:21\n",
      "please enter value:22\n",
      "please enter value:23\n",
      "values are: [21, 22, 23]\n",
      "odd: 2\n",
      "even: 1\n"
     ]
    }
   ],
   "source": [
    "a=int(input(\"please enter range:\"))\n",
    "list1=[]\n",
    "for i in range(a):\n",
    "    x=int(input('please enter value:'))\n",
    "    list1.append(x)\n",
    "print('values are:',list1)\n",
    "count=0\n",
    "count1=0\n",
    "for j in range(len(list1)):\n",
    "    if j%2==0:\n",
    "        count+=1\n",
    "    else:\n",
    "        count1+=1\n",
    "print(\"odd:\",count)\n",
    "print(\"even:\",count1)"
   ]
  }
 ],
 "metadata": {
  "kernelspec": {
   "display_name": "Python 3",
   "language": "python",
   "name": "python3"
  },
  "language_info": {
   "codemirror_mode": {
    "name": "ipython",
    "version": 3
   },
   "file_extension": ".py",
   "mimetype": "text/x-python",
   "name": "python",
   "nbconvert_exporter": "python",
   "pygments_lexer": "ipython3",
   "version": "3.7.4"
  }
 },
 "nbformat": 4,
 "nbformat_minor": 2
}
