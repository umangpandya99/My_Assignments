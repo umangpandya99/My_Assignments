{
 "cells": [
  {
   "cell_type": "markdown",
   "metadata": {},
   "source": [
    "Find odd and even numbers from a list of numbers"
   ]
  },
  {
   "cell_type": "code",
   "execution_count": null,
   "metadata": {},
   "outputs": [],
   "source": [
    "list1=[]\n",
    "list2=[]\n",
    "a=int(input(\"Enter lenght of values to find odd/even: \"))\n",
    "for i in range(a):\n",
    "    if i%2==0:\n",
    "        list1.append(i)\n",
    "        \n",
    "    else:\n",
    "        list2.append(i)\n",
    "print(\"odd is :\",list2)\n",
    "print(\"even is :\",list1)"
   ]
  },
  {
   "cell_type": "markdown",
   "metadata": {},
   "source": [
    "Write a function to find mean of three numbers. Take these 3 numbers from user input."
   ]
  },
  {
   "cell_type": "code",
   "execution_count": null,
   "metadata": {},
   "outputs": [],
   "source": [
    "def average():\n",
    "    entries=int(input(\"enter the number of value to find mean:\"))\n",
    "    for i in range(entries):\n",
    "        abc=int(input(\"enter the value {}: \".format(i+1)))\n",
    "        abc+=abc\n",
    "    a=abc/entries\n",
    "    \n",
    "    print(\"Mean of given input number is: \",a)"
   ]
  },
  {
   "cell_type": "markdown",
   "metadata": {},
   "source": [
    "Suppose you’re selling 100 toffees. Every time a customer comes, he buys random number of toffees. Create a function which deducts the number of toffees bought by user. This number of toffees should be as an input from user. Keep selling the toffees until it is out of stock. Store the transaction record of number of toffees sold every time a customer came, in a list"
   ]
  },
  {
   "cell_type": "code",
   "execution_count": null,
   "metadata": {},
   "outputs": [],
   "source": [
    "\n",
    "list1a=[]\n",
    "list1b=[]\n",
    "toffee=100\n",
    "count=1\n",
    "def sell():\n",
    "    global toffee\n",
    "    global count\n",
    "    while toffee>0:\n",
    "        buys=int(input(\"Number of toffees bought by customer {}: \".format(count)))\n",
    "        count+=1\n",
    "        if toffee>=buys:\n",
    "            toffee=toffee-buys\n",
    "            list1a.append(buys)\n",
    "        else:\n",
    "            a=int(input(\"You dont have enough toffees. Please enter valid number: \")\n",
    "            if toffee>=a:\n",
    "                toffee=toffee-a\n",
    "                list1a.append(a)\n",
    "            else:\n",
    "                print(\"You dont have {} toffees,please enter valid input\".format(a))\n",
    "                sell()\n",
    "                \n",
    "                print(\"Number of toffees bought by customers: \",list1a ) \n",
    "         "
   ]
  }
 ],
 "metadata": {
  "kernelspec": {
   "display_name": "Python 3",
   "language": "python",
   "name": "python3"
  },
  "language_info": {
   "codemirror_mode": {
    "name": "ipython",
    "version": 3
   },
   "file_extension": ".py",
   "mimetype": "text/x-python",
   "name": "python",
   "nbconvert_exporter": "python",
   "pygments_lexer": "ipython3",
   "version": "3.7.4"
  }
 },
 "nbformat": 4,
 "nbformat_minor": 2
}
