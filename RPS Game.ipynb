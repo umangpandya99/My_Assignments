{
 "cells": [
  {
   "cell_type": "markdown",
   "metadata": {},
   "source": [
    "## Rock,Paper,Scissor Game\n",
    "\n",
    "- Play with Computer Player\n",
    "\n",
    "- Play & win the game !!"
   ]
  },
  {
   "cell_type": "code",
   "execution_count": null,
   "metadata": {},
   "outputs": [],
   "source": [
    "from random import choice\n",
    "print('*'*100)\n",
    "print('-'*100)\n",
    "print(\"Welcome to Rock Paper & Scissors Game\".center(100))\n",
    "print('-'*100)\n",
    "print('*'*100)\n",
    "l = ['r','p','s']\n",
    "name = input(\"Enter your name:  \")\n",
    "cond=[('r','p'),('s','r'),('p','s')]\n",
    "while True:\n",
    "    com = choice(l)\n",
    "    player = input(\"Your choice : \")\n",
    "    answer = (com,player)\n",
    "    if (answer in cond):\n",
    "        print(f\"{name} won !! {name} choses {player}  & Computer choses {com}\")\n",
    "    elif (com==player):\n",
    "        print(\"draw !!\")\n",
    "    else:\n",
    "        print(f\"computer won !! {name} choses {player}  & Computer choses {com} \")\n",
    "    c = input(\"Do you want to play again?? (y/n) : \")\n",
    "    if c == \"y\" or c == \"yes\":\n",
    "        continue\n",
    "    else:\n",
    "        break"
   ]
  }
 ],
 "metadata": {
  "kernelspec": {
   "display_name": "Python 3",
   "language": "python",
   "name": "python3"
  },
  "language_info": {
   "codemirror_mode": {
    "name": "ipython",
    "version": 3
   },
   "file_extension": ".py",
   "mimetype": "text/x-python",
   "name": "python",
   "nbconvert_exporter": "python",
   "pygments_lexer": "ipython3",
   "version": "3.7.4"
  }
 },
 "nbformat": 4,
 "nbformat_minor": 2
}
